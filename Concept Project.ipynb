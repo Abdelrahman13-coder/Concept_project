{
 "cells": [
  {
   "cell_type": "code",
   "execution_count": 2,
   "metadata": {},
   "outputs": [
    {
     "name": "stdout",
     "output_type": "stream",
     "text": [
      "Enter the length of the password u want:19\n"
     ]
    }
   ],
   "source": [
    "import random\n",
    "import tkinter as tk\n",
    "from tkinter import *\n",
    "from tkinter import messagebox\n",
    "\n",
    "def GenerateRandomPassword(length = 14):\n",
    "    chars = \"qwertyuiopasdfghjklzxcvbnmQWERTYUIOPASDFGHJKLZXCVBNM1234567890+-*/=_&^%$#@!~\"\n",
    "    password=\"\"\n",
    "    for i in range(length):\n",
    "        password = password + random.choice(chars)\n",
    "    return password\n",
    "\n",
    "root = tk.Tk()\n",
    "entry = tk.Entry(root)\n",
    "entry.pack(side=\"right\", padx=50, pady=50)\n",
    "L1 = Label(root, text=\"the generated password\")\n",
    "L1.pack( side = LEFT)\n",
    "length1 = int(input(\"Enter the length of the password u want:\"))\n",
    "entry.insert(0, GenerateRandomPassword(length1))\n",
    "entry.configure(state=\"readonly\")\n",
    "root.clipboard_clear()\n",
    "root.clipboard_append(entry.get())\n",
    "messagebox.showinfo(\"Random Password Generator\", \"the password copied to clipboard\")\n",
    "root.mainloop()"
   ]
  },
  {
   "cell_type": "code",
   "execution_count": null,
   "metadata": {},
   "outputs": [],
   "source": []
  },
  {
   "cell_type": "code",
   "execution_count": null,
   "metadata": {},
   "outputs": [],
   "source": []
  }
 ],
 "metadata": {
  "kernelspec": {
   "display_name": "Python 3",
   "language": "python",
   "name": "python3"
  },
  "language_info": {
   "codemirror_mode": {
    "name": "ipython",
    "version": 3
   },
   "file_extension": ".py",
   "mimetype": "text/x-python",
   "name": "python",
   "nbconvert_exporter": "python",
   "pygments_lexer": "ipython3",
   "version": "3.7.6"
  }
 },
 "nbformat": 4,
 "nbformat_minor": 4
}
